{
  "nbformat": 4,
  "nbformat_minor": 0,
  "metadata": {
    "colab": {
      "provenance": [],
      "authorship_tag": "ABX9TyNUQhewnxGZkpHRxLA3ZyEE",
      "include_colab_link": true
    },
    "kernelspec": {
      "name": "python3",
      "display_name": "Python 3"
    },
    "language_info": {
      "name": "python"
    }
  },
  "cells": [
    {
      "cell_type": "markdown",
      "metadata": {
        "id": "view-in-github",
        "colab_type": "text"
      },
      "source": [
        "<a href=\"https://colab.research.google.com/github/ColeTKrause/MAT421/blob/main/ModuleA.ipynb\" target=\"_parent\"><img src=\"https://colab.research.google.com/assets/colab-badge.svg\" alt=\"Open In Colab\"/></a>"
      ]
    },
    {
      "cell_type": "markdown",
      "source": [
        "# Numbers and Representation\n",
        "\n",
        "\n",
        "---\n",
        "\n",
        "\n",
        "## Base-N and Binary\n",
        "When mathematicians, engineers and scientist are running calculations, chances are they defined the problem with the Base 10 system (also known as decimal). Computers have become essential for a majority of calculations and nearly all modern processors work with the Binary system. Thus understanding base conversions is a fundamental skill all mathematicians, engineers, and scientist should know when using code to solve a problem.\n",
        "\n",
        "All programming languages such as Python, Java, C and more must convert the Base 10 numbers provided by the programmer to Binary before execution in the CPU. Python is an interpreted language and this conversion is handled by the intrepreter which handles each conversion \"on the go\". Even though the interpreter can handle all conversions, there are many applications in which working with Binary, Octal, or Hex is easier much and more appropriate for the task at hand."
      ],
      "metadata": {
        "id": "-wQER6IWHuJ7"
      }
    },
    {
      "cell_type": "markdown",
      "source": [
        "### Base-N\n",
        "The N represents the power associated with each place or index.\n",
        "It is important to note, despite calling the initial item in a sequence the \"first\", base-N is actually a zero-based numbering system. This means the first item in a sequence is \"index 0\". Each index to the left increases by one positively, and each index to right decreases by one negatively."
      ],
      "metadata": {
        "id": "Jtbsdk3gZfXX"
      }
    },
    {
      "cell_type": "markdown",
      "source": [
        "### Base-10\n",
        "Numbers 0 - 9 are mutliplied by the base (10) to the power of the index."
      ],
      "metadata": {
        "id": "2MTZ4LhRWiXA"
      }
    },
    {
      "cell_type": "code",
      "source": [
        "# Example 1: Decimal expansion of 421.424\n",
        "expansion = (4*(10**2)) + (2*(10**1)) + (1*(10**0)) + (4*(10**-1)) + (2*(10**-2)) + (4*(10**-3))\n",
        "print(expansion)"
      ],
      "metadata": {
        "colab": {
          "base_uri": "https://localhost:8080/"
        },
        "id": "CbUQ9jbuOIg_",
        "outputId": "369e2101-683d-4121-e833-a23a6705141d"
      },
      "execution_count": 17,
      "outputs": [
        {
          "output_type": "stream",
          "name": "stdout",
          "text": [
            "421.424\n"
          ]
        }
      ]
    },
    {
      "cell_type": "markdown",
      "source": [
        "### Base-2 or Binary\n",
        "Digits are from 0 to 1 and are multiplied by the base (2) to the power of the index. Addition and Multiplication work the same for Binary and Base-10, both are commutative."
      ],
      "metadata": {
        "id": "VM7XMrXpbirM"
      }
    },
    {
      "cell_type": "code",
      "source": [
        "# Example 2: Convert 149 Base 10 to Binary and Provide the binary expansion\n",
        "# binary expansions require to first break down 149 into a sum of power of 2\n",
        "# 149 = 128 + 16 + 8 + 4 + 1 = 2^7 + 2^4 + 2^2 + 2^0\n",
        "# these powers now represent the index in which to place a 1 for the binary version of 149\n",
        "# 1001 0101\n",
        "decimal_val = 149\n",
        "binary_val = bin(149)\n",
        "print(\"decimal: \" + str(decimal_val))\n",
        "print(\"binary: \" + binary_val)\n",
        "\n",
        "# Example 3: Addition and Multiplication is commutative\n",
        "bina = bin(13)  # 0000 1101\n",
        "binb = bin(9)   # 0000 1001\n",
        "binab_add = bin(9+13)   # 0001 0110 -> a + b = b + a\n",
        "binab_mult = bin(9*13)  # 0111 0101 -> a * b = b * a\n",
        "# Notice! python will cut off leading zeros when printing out binary numbers\n",
        "print(bina)\n",
        "print(binb)\n",
        "print(binab_add)\n",
        "print(binab_mult)\n"
      ],
      "metadata": {
        "colab": {
          "base_uri": "https://localhost:8080/"
        },
        "id": "hGGaDmt_cIAM",
        "outputId": "8ae50a9e-8524-4438-a7de-603e0caf62b3"
      },
      "execution_count": 30,
      "outputs": [
        {
          "output_type": "stream",
          "name": "stdout",
          "text": [
            "decimal: 149\n",
            "binary: 0b10010101\n",
            "0b1101\n",
            "0b1001\n",
            "0b10110\n",
            "0b1110101\n"
          ]
        }
      ]
    },
    {
      "cell_type": "markdown",
      "source": [
        "### Hexadecimal\n",
        "Digits are from 0 to A and are each index stores 4 bits of information. Hexadecimal is number system that is based on a power of 2 and the system allows for programmers to work with large integers in a condensed format but have quick and easy binary conversions."
      ],
      "metadata": {
        "id": "E_3J6TXZeJnm"
      }
    },
    {
      "cell_type": "code",
      "source": [
        "# Example 3: Large numbers in hex vs binary\n",
        "b10_val = 2**63\n",
        "hex_val = hex(b10_val)\n",
        "binary_val = bin(b10_val)\n",
        "print(b10_val)\n",
        "print('\\n')\n",
        "print(hex_val)\n",
        "print('\\n')\n",
        "print(binary_val)"
      ],
      "metadata": {
        "colab": {
          "base_uri": "https://localhost:8080/"
        },
        "id": "xYh6KcTlfNod",
        "outputId": "265a73a2-fc54-4d0a-dd40-9a5655fd387b"
      },
      "execution_count": 23,
      "outputs": [
        {
          "output_type": "stream",
          "name": "stdout",
          "text": [
            "9223372036854775808\n",
            "\n",
            "\n",
            "0x8000000000000000\n",
            "\n",
            "\n",
            "0b1000000000000000000000000000000000000000000000000000000000000000\n"
          ]
        }
      ]
    },
    {
      "cell_type": "markdown",
      "source": [
        "## Floating Point Numbers\n",
        "\n",
        "Computers operate purely on 0s and 1s when code is being processed through the CPU. The two values limits the ability to include a decimal point when representing numbers. In order to represent fractional/floating point numbers, a sequence of binary numbers must be broken down into chunks. To represent floating point numbers the break down for an IEEE754 64-bit double (python default for float) 1 sign bit, 11 bits for exponent, and 52 bits for the fraction.https://pythonnumericalmethods.berkeley.edu/notebooks/chapter09.02-Floating-Point-Numbers.html.\n",
        "\n",
        "To determine a float representation the equation is:\n",
        "n = (-1)^s * 2^(e-1023) * (1 + f)\n",
        "s = sign\n",
        "e = exponent\n",
        "f = fraction\n",
        "\n",
        "Examples below are included to demonstrate:"
      ],
      "metadata": {
        "id": "qNpcsH-sfxwF"
      }
    },
    {
      "cell_type": "code",
      "source": [
        "# describe current system float details\n",
        "# If you use a 32 bit float when system is 64 bit you will get the wrong answer!\n",
        "import sys\n",
        "sys.float_info\n",
        "# It is important to stay within the\n",
        "sys.float_info.max\n",
        "# and the\n",
        "sys.float_info.min\n",
        "# going over or under either will result in overflow errors!\n",
        "\n",
        "# Example 4: Convert 0 10000000111 1001000100000000000000000000000000000000000000000000\n",
        "# sign is only one bit, 0 = positive, 1 = negative\n",
        "sign = 0\n",
        "# use binary expansion above or inbuilt python function to convert binary to integer\n",
        "exponent = int(0b10000000111)\n",
        "# use binary expansion to convert fraction\n",
        "fraction = (1*(2**-1)) + (1*(2**-4)) + (1*(2**-8))\n",
        "# now plug into equation to get decimal\n",
        "dec_num = ((-1)**sign)*(2**(exponent-1023))*(1+fraction)\n",
        "print(dec_num)\n",
        "\n",
        "# It is important to note this is just the IEEE 754 standard. Some systems (although uncommon) may run a very different\n",
        "# split of bits to exponent and fraction. Thus each programmer must verify with their system."
      ],
      "metadata": {
        "colab": {
          "base_uri": "https://localhost:8080/"
        },
        "id": "FQ3K1WhTrYYg",
        "outputId": "0981068a-2cd8-436c-b61b-2eb86e29f948"
      },
      "execution_count": 43,
      "outputs": [
        {
          "output_type": "stream",
          "name": "stdout",
          "text": [
            "401.0\n"
          ]
        }
      ]
    },
    {
      "cell_type": "markdown",
      "source": [
        "## Round-off Errors\n",
        "In general there are three major types of errors when performing computation; representation error, round-off floating point arithmetic error, and accumulation error. Each error is a result of the limitations of the Binary based number system.\n",
        "\n",
        "### Representation Error\n",
        "Mathematicians often use greek symbols to represent numbers that infinite. In computing, no such symbols exist for the CPU and the a number like pi or eulers number must be converted to a float/double before it can be processed by the CPU. All computers are constrained by memory and can't use an infinite number of bits to store and infinite number.\n"
      ],
      "metadata": {
        "id": "mMg5S-TVzzcN"
      }
    },
    {
      "cell_type": "code",
      "source": [
        "import math\n",
        "print(math.pi)\n",
        "# python double is 64 bit precision, and will cutoff after the 16th digit"
      ],
      "metadata": {
        "colab": {
          "base_uri": "https://localhost:8080/"
        },
        "id": "v5u5tg9Z1zN3",
        "outputId": "c68dbf74-3d25-47e8-eb78-c30e868f5f88"
      },
      "execution_count": 45,
      "outputs": [
        {
          "output_type": "stream",
          "name": "stdout",
          "text": [
            "3.141592653589793\n"
          ]
        }
      ]
    },
    {
      "cell_type": "markdown",
      "source": [
        "### Round-off Floating Point Arithmetic Error\n",
        "Along with inifnite numbers, some decimal numbers simply can't be represented with a floating point number, and programmers often have to suffice or adjust what the machine can store. There are a few strategies to improve the accuracy but often times memory becomes the limitation. If a fraction needs more than the mantissa amount of bits to be properly stored, these errors will occur in arithmetic. This website gives an awesome tool to understand why this is the case https://binaryconvert.com/result_double.html?decimal=052046057\n"
      ],
      "metadata": {
        "id": "misIbIiY2zzs"
      }
    },
    {
      "cell_type": "code",
      "source": [
        "# Based on the website we will see what is actually stored in the doubles\n",
        "actuald1 = 4.9000000000000003552713678800\n",
        "actuald2 = 4.84499999999999975131004248396\n",
        "print(actuald1-actuald2)\n",
        "\n",
        "# 4.9 and 4.845 are both cases where they can't be store fully in the python double and lead to roundoff error in calculation"
      ],
      "metadata": {
        "colab": {
          "base_uri": "https://localhost:8080/"
        },
        "id": "vxSASOAE3ie0",
        "outputId": "508eb5ee-e363-4fe3-c9c4-cfa37db25518"
      },
      "execution_count": 50,
      "outputs": [
        {
          "output_type": "stream",
          "name": "stdout",
          "text": [
            "0.055000000000000604\n"
          ]
        }
      ]
    },
    {
      "cell_type": "markdown",
      "source": [
        "## Accumulation of Round-off error\n",
        "As stated above with representation error, infinite numbers can't be perfectly represented with a 64-bit double. This limitation exist for fractions as well as special numbers. There errors can be very tricky for programmers to find, and can lead to very large errors in calculation for large iterations. Programmers need to lookout for irrational fractions in iterations to avoid these types of errors."
      ],
      "metadata": {
        "id": "BTMFYJ7j5exv"
      }
    },
    {
      "cell_type": "code",
      "source": [
        "# Example: Using an irrational number like 1/7\n",
        "# not a big deal for a small amount of iterations\n",
        "ir = 1/7\n",
        "sum = 0\n",
        "for i in range(7):\n",
        "  sum += ir\n",
        "\n",
        "# not a big deal for a few iterations\n",
        "print(1 - sum) # off by 2 x 10^-16\n",
        "\n",
        "# error becomes more noticeable with more iterations\n",
        "sum2 = 0\n",
        "for i in range(700000):\n",
        "  sum2 += ir\n",
        "\n",
        "print(100000 - sum2) # off by 8 x 10^-7\n",
        "\n"
      ],
      "metadata": {
        "colab": {
          "base_uri": "https://localhost:8080/"
        },
        "id": "QRiwKADg6aez",
        "outputId": "fc7b85b5-b5ef-4136-93ef-f625a63902b1"
      },
      "execution_count": 60,
      "outputs": [
        {
          "output_type": "stream",
          "name": "stdout",
          "text": [
            "2.220446049250313e-16\n",
            "8.194037945941091e-07\n"
          ]
        }
      ]
    }
  ]
}