{
  "nbformat": 4,
  "nbformat_minor": 0,
  "metadata": {
    "colab": {
      "provenance": [],
      "authorship_tag": "ABX9TyOj52gw9dhn9pirlXO2yE53",
      "include_colab_link": true
    },
    "kernelspec": {
      "name": "python3",
      "display_name": "Python 3"
    },
    "language_info": {
      "name": "python"
    }
  },
  "cells": [
    {
      "cell_type": "markdown",
      "metadata": {
        "id": "view-in-github",
        "colab_type": "text"
      },
      "source": [
        "<a href=\"https://colab.research.google.com/github/ColeTKrause/MAT421/blob/main/ModuleB_P1.ipynb\" target=\"_parent\"><img src=\"https://colab.research.google.com/assets/colab-badge.svg\" alt=\"Open In Colab\"/></a>"
      ]
    },
    {
      "cell_type": "markdown",
      "source": [
        "# Interpolation\n",
        "\n",
        "### Problem Statement\n",
        "\n",
        "Industry professionals often rely on Regression methods when trying to predict the outcome for a random variable based on an underlying data set. Regression techniques rely on the assumption that the underlying data has errors due to events like restrictions in the accuracy of measurement or human introduced errors. But what technique is appropriate when the underlying data is assumed to be very reliable?\n",
        "\n",
        "Well this is where Interpolation techniques will provide a better estimate function for the data. Unlike regression techniques, interpolation restricts the function to passing through past and future data values along with the predicted values. This IS NOT a requirement for regression.  "
      ],
      "metadata": {
        "id": "e1vCV_Yjb9-a"
      }
    },
    {
      "cell_type": "code",
      "source": [],
      "metadata": {
        "id": "teP6cw5CfIwf"
      },
      "execution_count": null,
      "outputs": []
    },
    {
      "cell_type": "markdown",
      "source": [
        "### Linear Interpolation"
      ],
      "metadata": {
        "id": "jQxRfLd-fJIg"
      }
    },
    {
      "cell_type": "code",
      "source": [],
      "metadata": {
        "id": "F6KePlhvfM1H"
      },
      "execution_count": null,
      "outputs": []
    },
    {
      "cell_type": "markdown",
      "source": [
        "### Cubic Spline Interpolation"
      ],
      "metadata": {
        "id": "r-p3-b12fNHU"
      }
    },
    {
      "cell_type": "code",
      "source": [],
      "metadata": {
        "id": "lMHDOAxcfQd2"
      },
      "execution_count": null,
      "outputs": []
    }
  ]
}