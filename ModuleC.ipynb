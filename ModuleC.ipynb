{
  "nbformat": 4,
  "nbformat_minor": 0,
  "metadata": {
    "colab": {
      "provenance": [],
      "authorship_tag": "ABX9TyP7I0MYGpuniRKAUCoa6sD2",
      "include_colab_link": true
    },
    "kernelspec": {
      "name": "python3",
      "display_name": "Python 3"
    },
    "language_info": {
      "name": "python"
    }
  },
  "cells": [
    {
      "cell_type": "markdown",
      "metadata": {
        "id": "view-in-github",
        "colab_type": "text"
      },
      "source": [
        "<a href=\"https://colab.research.google.com/github/ColeTKrause/MAT421/blob/main/ModuleC.ipynb\" target=\"_parent\"><img src=\"https://colab.research.google.com/assets/colab-badge.svg\" alt=\"Open In Colab\"/></a>"
      ]
    },
    {
      "cell_type": "markdown",
      "source": [
        "# Root Finding\n",
        "### Python Numerical Methods Textbook Reference\n",
        "link: https://pythonnumericalmethods.berkeley.edu/notebooks/chapter17.04-Lagrange-Polynomial-Interpolation.html"
      ],
      "metadata": {
        "id": "05FBoEIf-gGy"
      }
    },
    {
      "cell_type": "markdown",
      "source": [
        "## Problem Statement\n",
        "### Section 19.1\n",
        "\n",
        "Root Finding centers around finding the root of some function $f(x)$ such that given a value $x$ the function is zero, $f(x_r)=0$. Root finding is important as many scientific applications require finding when the function crosses the $x$ axis. Therefore, understanding efficient computing methods for determining the exact solution or an appropriate approximation to the root is essential. Thus we explore the python libraries to utilize the tools to generate exact or numerical approximations for functions such as $f(x)=x^2-16$ and $f(x)=sin(x)-x$.\n",
        "\n",
        "\n"
      ],
      "metadata": {
        "id": "EmnA6djN-t4H"
      }
    },
    {
      "cell_type": "code",
      "execution_count": 10,
      "metadata": {
        "colab": {
          "base_uri": "https://localhost:8080/"
        },
        "id": "JJtX28FC-de_",
        "outputId": "108cfd37-784d-419c-f2ff-d5f7905fbb02"
      },
      "outputs": [
        {
          "output_type": "stream",
          "name": "stdout",
          "text": [
            "r = [0.]\n",
            "result= [0.]\n",
            "result= [ 4.7568025 -4.7568025]\n"
          ]
        }
      ],
      "source": [
        "# Book related example: f(x) = sin(x) - x\n",
        "import numpy as np\n",
        "from scipy import optimize\n",
        "\n",
        "f = lambda x:np.sin(x) - x\n",
        "r = optimize.fsolve(f, 0)\n",
        "print('r =', r)\n",
        "\n",
        "# Verify the solution is a root\n",
        "result = f(r)\n",
        "print('result=', result)"
      ]
    },
    {
      "cell_type": "code",
      "source": [
        "# example: f(x) = x^2 - 16\n",
        "f2 = lambda x:(x**2) - 16\n",
        "r2 = optimize.fsolve(f2, [-4, 4])\n",
        "\n",
        "# verify solution\n",
        "result2 = f2(r2)\n",
        "print('result=', result2)\n",
        "# Note we can often get 'close enough' but not the full root value"
      ],
      "metadata": {
        "colab": {
          "base_uri": "https://localhost:8080/"
        },
        "id": "ZYJWkhczDGZF",
        "outputId": "107aefe0-ad1f-47eb-b676-c5a94385b11d"
      },
      "execution_count": 12,
      "outputs": [
        {
          "output_type": "stream",
          "name": "stdout",
          "text": [
            "result= [0. 0.]\n"
          ]
        }
      ]
    },
    {
      "cell_type": "code",
      "source": [
        "# Book example of no real root\n",
        "f3 = lambda x: 1/x\n",
        "\n",
        "r3, infodict, ier, mesg = optimize.fsolve(f3, -2, full_output=True)\n",
        "print('r=',r)\n",
        "\n",
        "result3 = f3(r3)\n",
        "print('result=', result3)\n",
        "print(mesg)\n",
        "# numerical approximation tools will often have a function limit call"
      ],
      "metadata": {
        "colab": {
          "base_uri": "https://localhost:8080/"
        },
        "id": "dhSCBb91DIlm",
        "outputId": "0438421e-0200-483a-849c-9334b6936c62"
      },
      "execution_count": 15,
      "outputs": [
        {
          "output_type": "stream",
          "name": "stdout",
          "text": [
            "r= [0.]\n",
            "result= [-2.84052692e-84]\n",
            "The number of calls to function has reached maxfev = 400.\n"
          ]
        }
      ]
    },
    {
      "cell_type": "markdown",
      "source": [
        "## Tolerance\n",
        "### Section 19.2\n",
        "\n",
        "Engineering and Science applications always have some component of error due to the physical limitations in measurement and computation tools. It is simply unavoidable as each instrument has a certain limit. Thus every tool and application has a certain amount of error they are willing to accept. This limit is the Tolerance related to measurement and computation. The tolerance is subjective to the project or application. For example an application calculating the average age of their user base will not have a stringent tolerance. Accuracy is necessary to about 2 decimal places in most situations. On the other hand a satellite that calculates the angle of antenna must have a very stringent tolerance as a 4th decimal place change in angle can result in missing the mark by hundreds a meters.\n",
        "\n",
        "Two common ways of determining error: \\\n",
        "\\\n",
        "$|f(x)|$ - to measure error optimizing for approaching zero\\\n",
        "\\\n",
        "$|x_{i+1}-x_i|$ - to make iterative improvements approaching zero\n"
      ],
      "metadata": {
        "id": "vm4II1agD236"
      }
    },
    {
      "cell_type": "code",
      "source": [
        "# |f(x)| measure of error and tolerance\n",
        "\n",
        "# arbitrary selected tolerance\n",
        "tol = 0.005\n",
        "\n",
        "# function with no real roots\n",
        "fx = lambda x: x**2 + tol/2\n",
        "\n",
        "# attempted optimization with given solution\n",
        "rt = optimize.fsolve(fx, 0)\n",
        "res = fx(rt)\n",
        "\n",
        "# error is absolute f(x)\n",
        "err = abs(res)\n",
        "\n",
        "# print result\n",
        "print('result=',err)"
      ],
      "metadata": {
        "colab": {
          "base_uri": "https://localhost:8080/"
        },
        "id": "0yekl5SxJUhK",
        "outputId": "7e780171-1832-4d69-a44f-15536042e944"
      },
      "execution_count": 18,
      "outputs": [
        {
          "output_type": "stream",
          "name": "stdout",
          "text": [
            "result= [0.0025]\n"
          ]
        },
        {
          "output_type": "stream",
          "name": "stderr",
          "text": [
            "/usr/local/lib/python3.10/dist-packages/scipy/optimize/_minpack_py.py:177: RuntimeWarning: The iteration is not making good progress, as measured by the \n",
            "  improvement from the last ten iterations.\n",
            "  warnings.warn(msg, RuntimeWarning)\n"
          ]
        }
      ]
    },
    {
      "cell_type": "code",
      "source": [
        "# |x_i+1 - x_i| measure of error and tolerance\n",
        "\n",
        "# arbitrary selected tolerance (change and observe function behavior)\n",
        "tol = 0.005\n",
        "\n",
        "# function with no real roots\n",
        "fx = lambda x: 1/x\n",
        "xi = -tol/4\n",
        "xii = tol/4\n",
        "\n",
        "# acceptable error\n",
        "err = abs(xii-xi) # note this is the same as tol/2\n",
        "\n",
        "# atempt to optimize with given xi+1 and xi values\n",
        "rt = optimize.fsolve(fx, [xi, xii], xtol=tol)\n",
        "res = fx(rt)\n",
        "\n",
        "# print results of function and what we accept for error in the program\n",
        "print('result=', res)\n",
        "print('error=', err)"
      ],
      "metadata": {
        "colab": {
          "base_uri": "https://localhost:8080/"
        },
        "id": "lkCNSvS9Nami",
        "outputId": "e0a2213a-9d29-4cdd-ff87-9abd0f4ea351"
      },
      "execution_count": 23,
      "outputs": [
        {
          "output_type": "stream",
          "name": "stdout",
          "text": [
            "result= [-1.24047196e-110  1.24047192e-110]\n",
            "error= 0.0025\n"
          ]
        },
        {
          "output_type": "stream",
          "name": "stderr",
          "text": [
            "/usr/local/lib/python3.10/dist-packages/scipy/optimize/_minpack_py.py:177: RuntimeWarning: The number of calls to function has reached maxfev = 600.\n",
            "  warnings.warn(msg, RuntimeWarning)\n"
          ]
        }
      ]
    },
    {
      "cell_type": "markdown",
      "source": [
        "## Bisection Method\n",
        "### Section 19.3\n",
        "\n",
        "**Recall the Intermediate Value Theorem:** if $f(x)$ is a cotinuous function between a and b and $signf(a) \\ne signf(b)$\n",
        "\n",
        "The Bisection method relies on the Intermediate Value Theorem to find the roots of a function. The bisection method rinds roots iteratively. The method is defined below: \\\n",
        "\\\n",
        "$Let f(x)$ be a continuous function. \\\n",
        "$Let$  $a, b \\in \\Re$ such that $a < b$ \\\n",
        "Assume $f(a)>0$ and $f(b)<0$ \\\n",
        "The midpoint is $m=\\frac{b+a}{2}$ \\\n",
        "If $f(m)=0$ or is within tolerance then m is a root. If $f(m)>0$ then m is an improvement on leftbound. If $f(m)<0$ there is an improvement on rightbound."
      ],
      "metadata": {
        "id": "Z9ueec3dPPIx"
      }
    },
    {
      "cell_type": "code",
      "source": [
        "# Bisection Function\n",
        "import numpy as np\n",
        "\n",
        "def my_bisection(f, a, b, tol):\n",
        "  # approximates a root for a function f\n",
        "  # in a bounded range [a,b]\n",
        "  # |f(m)| < tol with m midpoint\n",
        "  # between a and b recursive implementation\n",
        "\n",
        "  # error check if a and b has a bound root\n",
        "  if np.sign(f(a)) == np.sign(f(b)):\n",
        "    raise Exception('There is no bound root between scalars a and b')\n",
        "\n",
        "  # get midpoint\n",
        "  m = (a+b)/2\n",
        "\n",
        "  if np.abs(f(m)) < tol:\n",
        "    # stop once we have hit the desired tolerance\n",
        "    return m\n",
        "  elif np.sign(f(a)) == np.sign(f(m)):\n",
        "    # case where m is an improvement on leftbound side\n",
        "    # recursively move forward with a = m\n",
        "    return my_bisection(f, m, b, tol)\n",
        "  elif np.sign(f(b)) == np.sign(f(m)):\n",
        "    # case where m is an improvement on rightbout side\n",
        "    # recurseively move forward with b = m\n",
        "    return my_bisection(f, a, m, tol)\n"
      ],
      "metadata": {
        "id": "taphRTudSE8A"
      },
      "execution_count": 25,
      "outputs": []
    },
    {
      "cell_type": "code",
      "source": [
        "# Testing bisection function\n",
        "f = lambda x: x**2 - 3\n",
        "\n",
        "# using bisection to find the roots\n",
        "r1 = my_bisection(f, 0,3,0.1)\n",
        "print('root =', r1)\n",
        "r01 = my_bisection(f,0,3,0.005)\n",
        "print('root =', r01)\n",
        "\n",
        "# testing how accurate the roots are by plugging into original function\n",
        "print('f(r1)=', f(r1))\n",
        "print('f(r01)=', f(r01))"
      ],
      "metadata": {
        "colab": {
          "base_uri": "https://localhost:8080/"
        },
        "id": "mTmjfDRzTpZw",
        "outputId": "82ce58f0-43e9-4080-89dd-73bc5280d02f"
      },
      "execution_count": 27,
      "outputs": [
        {
          "output_type": "stream",
          "name": "stdout",
          "text": [
            "root = 1.734375\n",
            "root = 1.7314453125\n",
            "f(r1)= 0.008056640625\n",
            "f(r01)= -0.0020971298217773438\n"
          ]
        }
      ]
    },
    {
      "cell_type": "code",
      "source": [
        "# you can also test the error catching and understand\n",
        "# why it is important programmers think of these cases\n",
        "my_bisection(f, 2,4, 0.05)"
      ],
      "metadata": {
        "colab": {
          "base_uri": "https://localhost:8080/",
          "height": 349
        },
        "id": "seupY3aTVewV",
        "outputId": "663ca3ed-6cfe-47a3-db36-5eb28e19ee0b"
      },
      "execution_count": 28,
      "outputs": [
        {
          "output_type": "error",
          "ename": "Exception",
          "evalue": "There is no bound root between scalars a and b",
          "traceback": [
            "\u001b[0;31m---------------------------------------------------------------------------\u001b[0m",
            "\u001b[0;31mException\u001b[0m                                 Traceback (most recent call last)",
            "\u001b[0;32m<ipython-input-28-69a5ed10c36d>\u001b[0m in \u001b[0;36m<cell line: 3>\u001b[0;34m()\u001b[0m\n\u001b[1;32m      1\u001b[0m \u001b[0;31m# you can also test the error catching and understand\u001b[0m\u001b[0;34m\u001b[0m\u001b[0;34m\u001b[0m\u001b[0m\n\u001b[1;32m      2\u001b[0m \u001b[0;31m# why it is important programmers think of these cases\u001b[0m\u001b[0;34m\u001b[0m\u001b[0;34m\u001b[0m\u001b[0m\n\u001b[0;32m----> 3\u001b[0;31m \u001b[0mmy_bisection\u001b[0m\u001b[0;34m(\u001b[0m\u001b[0mf\u001b[0m\u001b[0;34m,\u001b[0m \u001b[0;36m2\u001b[0m\u001b[0;34m,\u001b[0m\u001b[0;36m4\u001b[0m\u001b[0;34m,\u001b[0m \u001b[0;36m0.05\u001b[0m\u001b[0;34m)\u001b[0m\u001b[0;34m\u001b[0m\u001b[0;34m\u001b[0m\u001b[0m\n\u001b[0m",
            "\u001b[0;32m<ipython-input-25-262af93498b0>\u001b[0m in \u001b[0;36mmy_bisection\u001b[0;34m(f, a, b, tol)\u001b[0m\n\u001b[1;32m     10\u001b[0m   \u001b[0;31m# error check if a and b has a bound root\u001b[0m\u001b[0;34m\u001b[0m\u001b[0;34m\u001b[0m\u001b[0m\n\u001b[1;32m     11\u001b[0m   \u001b[0;32mif\u001b[0m \u001b[0mnp\u001b[0m\u001b[0;34m.\u001b[0m\u001b[0msign\u001b[0m\u001b[0;34m(\u001b[0m\u001b[0mf\u001b[0m\u001b[0;34m(\u001b[0m\u001b[0ma\u001b[0m\u001b[0;34m)\u001b[0m\u001b[0;34m)\u001b[0m \u001b[0;34m==\u001b[0m \u001b[0mnp\u001b[0m\u001b[0;34m.\u001b[0m\u001b[0msign\u001b[0m\u001b[0;34m(\u001b[0m\u001b[0mf\u001b[0m\u001b[0;34m(\u001b[0m\u001b[0mb\u001b[0m\u001b[0;34m)\u001b[0m\u001b[0;34m)\u001b[0m\u001b[0;34m:\u001b[0m\u001b[0;34m\u001b[0m\u001b[0;34m\u001b[0m\u001b[0m\n\u001b[0;32m---> 12\u001b[0;31m     \u001b[0;32mraise\u001b[0m \u001b[0mException\u001b[0m\u001b[0;34m(\u001b[0m\u001b[0;34m'There is no bound root between scalars a and b'\u001b[0m\u001b[0;34m)\u001b[0m\u001b[0;34m\u001b[0m\u001b[0;34m\u001b[0m\u001b[0m\n\u001b[0m\u001b[1;32m     13\u001b[0m \u001b[0;34m\u001b[0m\u001b[0m\n\u001b[1;32m     14\u001b[0m   \u001b[0;31m# get midpoint\u001b[0m\u001b[0;34m\u001b[0m\u001b[0;34m\u001b[0m\u001b[0m\n",
            "\u001b[0;31mException\u001b[0m: There is no bound root between scalars a and b"
          ]
        }
      ]
    },
    {
      "cell_type": "markdown",
      "source": [
        "## Newton-Raphson Method\n",
        "### Section 19.4\n",
        "\n",
        "The Bisection method up above requires a few conditions in order for an effective iterative improvement can take place. The bisection method requires a range of values [a,b] in order to make educated judgements moving future guesses to the leftbound or rightbound direction. But what if a programmer is not able to provide a range [a,b] but still would like the algorithm to make an educated guess on which direction to traverse?\n",
        "\n",
        "The Newton-Raphson method comes into play! This method only requires the function and its derivatve in order to use linear approximations to improve subsequenct guesses on root values. Now the Newton-Raphson method still needs a starting point and tolerance, but this is generally readily avialable in computation. The method is explained mathematically below:\\\n",
        "\\\n",
        "**Approximation equation:** $0=f(x_0) +f'(x_0)(x_1-x_0)$ \\\n",
        "\\\n",
        "where $x_0$ is the intial guess\\\n",
        "$x_1$ is the found by rewriting the equation and solving for the next term\\\n",
        "\\\n",
        "**Next term:**$x_1 = \\frac{f(x_0)}{f'(x_0)}$\\\n",
        "**General Next term:** $x_i=x_{i-1}-\\frac{g(x_{i-1})}{g'(x_{x-1})}$\\\n",
        "\\\n",
        "Implementation in code shown below:"
      ],
      "metadata": {
        "id": "Se-auZKMVA9x"
      }
    },
    {
      "cell_type": "code",
      "source": [
        "# Creating a recursive newton-raphson method\n",
        "def my_newton(f, df, x0, tol):\n",
        "  # each output is and estimation\n",
        "  # of the root getting closer to\n",
        "  # the actual root until the\n",
        "  # tolerance is hit\n",
        "  if abs(f(x0)) < tol:\n",
        "    return x0\n",
        "  else:\n",
        "    return my_newton(f, df, x0 - f(x0)/df(x0), tol)"
      ],
      "metadata": {
        "id": "L7NGDHjwYx-F"
      },
      "execution_count": 30,
      "outputs": []
    },
    {
      "cell_type": "code",
      "source": [
        "# function examples\n",
        "import numpy as np\n",
        "\n",
        "# f = x^2 - 2\n",
        "f = lambda x: x**2 - 2\n",
        "f_prime = lambda x: 2*x\n",
        "estimate = my_newton(f, f_prime, 1.5, 1e-6)\n",
        "print('estimate=', estimate)\n",
        "print('sqrt(2)=', np.sqrt(2))\n",
        "# notice the numbers are different due to different function tolerances\n",
        "print(abs(estimate-np.sqrt(2)))"
      ],
      "metadata": {
        "colab": {
          "base_uri": "https://localhost:8080/"
        },
        "id": "Qs-TChmzZQZM",
        "outputId": "fb2973c8-49f7-4ef7-bc1f-d526045b82b4"
      },
      "execution_count": 32,
      "outputs": [
        {
          "output_type": "stream",
          "name": "stdout",
          "text": [
            "estimate= 1.4142135623746899\n",
            "sqrt(2)= 1.4142135623730951\n",
            "1.5947243525715749e-12\n"
          ]
        }
      ]
    },
    {
      "cell_type": "code",
      "source": [
        "# lets try a function to the cubic term!\n",
        "f = lambda x:x**3 - 100*(x**2) - x + 100\n",
        "f_prime = lambda x:3*(x**2) - (200*x) - 1\n",
        "estimate = my_newton(f, f_prime, 0, 0.000001)\n",
        "print('estimate=', estimate)\n",
        "# notice the function can still give informed guesses even if the derivative is not linear!"
      ],
      "metadata": {
        "colab": {
          "base_uri": "https://localhost:8080/"
        },
        "id": "WUcgYYKHZ-h7",
        "outputId": "0cbbf59b-a677-49e8-c9f8-93333a6408b5"
      },
      "execution_count": 33,
      "outputs": [
        {
          "output_type": "stream",
          "name": "stdout",
          "text": [
            "estimate= 100.0\n"
          ]
        }
      ]
    },
    {
      "cell_type": "markdown",
      "source": [
        "## Root Finding in Python\n",
        "### Section 19.5\n",
        "\n",
        "Above mentioned some common numerical approximation functions and algorithms. Python is a robust language with many machine learning and data science libraries either included in the base language or in easily imported libraries. One such example is the Scipy library. I will attach links to the library's documentation below, as it is helpful to explore what has already been created in the open source environment!\\\n",
        "\\\n",
        "library links:\\\n",
        "**SciPy:**https://scipy.org/ \\\n",
        "**NumPy:**https://numpy.org/doc/stable/reference/generated/numpy.roots.html \\\n",
        "**SciKit-Learn:**https://scikit-learn.org/stable/modules/generated/sklearn.metrics.mean_squared_error.html \\\n"
      ],
      "metadata": {
        "id": "_suwLgNcat9b"
      }
    },
    {
      "cell_type": "code",
      "source": [
        "# Scipy example\n",
        "# importing the library\n",
        "from scipy.optimize import fsolve\n",
        "\n",
        "f = lambda x: x**3 -100*x**2 -x +100\n",
        "fsolve(f,[2,80])\n",
        "\n",
        "# Numpy example\n",
        "import numpy as np\n",
        "\n",
        "# x^2 -7x +10\n",
        "# (x-2)(x-5)\n",
        "# roots = 2, 5\n",
        "coeff = [1, -7, 10]\n",
        "print(np.roots(coeff))"
      ],
      "metadata": {
        "colab": {
          "base_uri": "https://localhost:8080/"
        },
        "id": "CYHsqxY_ihr7",
        "outputId": "710ab6e8-31bd-450f-d4b9-80ff874461bc"
      },
      "execution_count": 39,
      "outputs": [
        {
          "output_type": "stream",
          "name": "stdout",
          "text": [
            "[5. 2.]\n"
          ]
        }
      ]
    }
  ]
}