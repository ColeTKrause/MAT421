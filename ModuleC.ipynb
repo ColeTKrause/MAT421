{
  "nbformat": 4,
  "nbformat_minor": 0,
  "metadata": {
    "colab": {
      "provenance": [],
      "authorship_tag": "ABX9TyPX8WSNTe9U+PiNdsn8SKdI",
      "include_colab_link": true
    },
    "kernelspec": {
      "name": "python3",
      "display_name": "Python 3"
    },
    "language_info": {
      "name": "python"
    }
  },
  "cells": [
    {
      "cell_type": "markdown",
      "metadata": {
        "id": "view-in-github",
        "colab_type": "text"
      },
      "source": [
        "<a href=\"https://colab.research.google.com/github/ColeTKrause/MAT421/blob/main/ModuleC.ipynb\" target=\"_parent\"><img src=\"https://colab.research.google.com/assets/colab-badge.svg\" alt=\"Open In Colab\"/></a>"
      ]
    },
    {
      "cell_type": "markdown",
      "source": [
        "# Root Finding\n",
        "### Python Numerical Methods Textbook Reference\n",
        "link: https://pythonnumericalmethods.berkeley.edu/notebooks/chapter17.04-Lagrange-Polynomial-Interpolation.html"
      ],
      "metadata": {
        "id": "05FBoEIf-gGy"
      }
    },
    {
      "cell_type": "markdown",
      "source": [
        "## Problem Statement\n",
        "### Section 19.1\n",
        "\n",
        "Root Finding centers around finding the root of some function $f(x)$ such that given a value $x$ the function is zero, $f(x_r)=0$. Root finding is important as many scientific applications require finding when the function crosses the $x$ axis. Therefore, understanding efficient computing methods for determining the exact solution or an appropriate approximation to the root is essential. Thus we explore the python libraries to utilize the tools to generate exact or numerical approximations for functions such as $f(x)=x^2-16$ and $f(x)=sin(x)-x$.\n",
        "\n",
        "\n"
      ],
      "metadata": {
        "id": "EmnA6djN-t4H"
      }
    },
    {
      "cell_type": "code",
      "execution_count": 10,
      "metadata": {
        "colab": {
          "base_uri": "https://localhost:8080/"
        },
        "id": "JJtX28FC-de_",
        "outputId": "108cfd37-784d-419c-f2ff-d5f7905fbb02"
      },
      "outputs": [
        {
          "output_type": "stream",
          "name": "stdout",
          "text": [
            "r = [0.]\n",
            "result= [0.]\n",
            "result= [ 4.7568025 -4.7568025]\n"
          ]
        }
      ],
      "source": [
        "# Book related example: f(x) = sin(x) - x\n",
        "import numpy as np\n",
        "from scipy import optimize\n",
        "\n",
        "f = lambda x:np.sin(x) - x\n",
        "r = optimize.fsolve(f, 0)\n",
        "print('r =', r)\n",
        "\n",
        "# Verify the solution is a root\n",
        "result = f(r)\n",
        "print('result=', result)"
      ]
    },
    {
      "cell_type": "code",
      "source": [
        "# example: f(x) = x^2 - 16\n",
        "f2 = lambda x:(x**2) - 16\n",
        "r2 = optimize.fsolve(f2, [-4, 4])\n",
        "\n",
        "# verify solution\n",
        "result2 = f2(r2)\n",
        "print('result=', result2)\n",
        "# Note we can often get 'close enough' but not the full root value"
      ],
      "metadata": {
        "colab": {
          "base_uri": "https://localhost:8080/"
        },
        "id": "ZYJWkhczDGZF",
        "outputId": "107aefe0-ad1f-47eb-b676-c5a94385b11d"
      },
      "execution_count": 12,
      "outputs": [
        {
          "output_type": "stream",
          "name": "stdout",
          "text": [
            "result= [0. 0.]\n"
          ]
        }
      ]
    },
    {
      "cell_type": "code",
      "source": [
        "# Book example of no real root\n",
        "f3 = lambda x: 1/x\n",
        "\n",
        "r3, infodict, ier, mesg = optimize.fsolve(f3, -2, full_output=True)\n",
        "print('r=',r)\n",
        "\n",
        "result3 = f3(r3)\n",
        "print('result=', result3)\n",
        "print(mesg)\n",
        "# numerical approximation tools will often have a function limit call"
      ],
      "metadata": {
        "colab": {
          "base_uri": "https://localhost:8080/"
        },
        "id": "dhSCBb91DIlm",
        "outputId": "0438421e-0200-483a-849c-9334b6936c62"
      },
      "execution_count": 15,
      "outputs": [
        {
          "output_type": "stream",
          "name": "stdout",
          "text": [
            "r= [0.]\n",
            "result= [-2.84052692e-84]\n",
            "The number of calls to function has reached maxfev = 400.\n"
          ]
        }
      ]
    },
    {
      "cell_type": "markdown",
      "source": [
        "## Tolerance\n",
        "### Section 19.2\n",
        "\n",
        "Engineering and Science applications always have some component of error due to the physical limitations in measurement and computation tools. It is simply unavoidable as each instrument has a certain limit. Thus every tool and application has a certain amount of error they are willing to accept. This limit is the Tolerance related to measurement and computation. The tolerance is subjective to the project or application. For example an application calculating the average age of their user base will not have a stringent tolerance. Accuracy is necessary to about 2 decimal places in most situations. On the other hand a satellite that calculates the angle of atenna must have a very stringent tolerance as a 4th decimal place change in angle can result in missing the mark by hundreds a meters.\n",
        "\n",
        "Two common ways of determining error: \\\n",
        "\\\n",
        "$|f(x)|$ - to measure error optimizing for approaching zero\\\n",
        "\\\n",
        "$|x_{i+1}-x_i|$ - to make iterative improvements approaching zero\n"
      ],
      "metadata": {
        "id": "vm4II1agD236"
      }
    },
    {
      "cell_type": "code",
      "source": [
        "# |f(x)| measure of error and tolerance\n",
        "\n",
        "# arbitrary selected tolerance\n",
        "tol = 0.005\n",
        "\n",
        "# function with no real roots\n",
        "fx = lambda x: x**2 + tol/2\n",
        "\n",
        "# attempted optimization with given solution\n",
        "rt = optimize.fsolve(fx, 0)\n",
        "res = fx(rt)\n",
        "\n",
        "# error is absolute f(x)\n",
        "err = abs(res)\n",
        "\n",
        "# print result\n",
        "print('result=',err)"
      ],
      "metadata": {
        "colab": {
          "base_uri": "https://localhost:8080/"
        },
        "id": "0yekl5SxJUhK",
        "outputId": "7e780171-1832-4d69-a44f-15536042e944"
      },
      "execution_count": 18,
      "outputs": [
        {
          "output_type": "stream",
          "name": "stdout",
          "text": [
            "result= [0.0025]\n"
          ]
        },
        {
          "output_type": "stream",
          "name": "stderr",
          "text": [
            "/usr/local/lib/python3.10/dist-packages/scipy/optimize/_minpack_py.py:177: RuntimeWarning: The iteration is not making good progress, as measured by the \n",
            "  improvement from the last ten iterations.\n",
            "  warnings.warn(msg, RuntimeWarning)\n"
          ]
        }
      ]
    },
    {
      "cell_type": "code",
      "source": [
        "# |x_i+1 - x_i| measure of error and tolerance\n",
        "\n",
        "# arbitrary selected tolerance (change and observe function behavior)\n",
        "tol = 0.005\n",
        "\n",
        "# function with no real roots\n",
        "fx = lambda x: 1/x\n",
        "xi = -tol/4\n",
        "xii = tol/4\n",
        "\n",
        "# acceptable error\n",
        "err = abs(xii-xi) # note this is the same as tol/2\n",
        "\n",
        "# atempt to optimize with given xi+1 and xi values\n",
        "rt = optimize.fsolve(fx, [xi, xii], xtol=tol)\n",
        "res = fx(rt)\n",
        "\n",
        "# print results of function and what we accept for error in the program\n",
        "print('result=', res)\n",
        "print('error=', err)"
      ],
      "metadata": {
        "colab": {
          "base_uri": "https://localhost:8080/"
        },
        "id": "lkCNSvS9Nami",
        "outputId": "e0a2213a-9d29-4cdd-ff87-9abd0f4ea351"
      },
      "execution_count": 23,
      "outputs": [
        {
          "output_type": "stream",
          "name": "stdout",
          "text": [
            "result= [-1.24047196e-110  1.24047192e-110]\n",
            "error= 0.0025\n"
          ]
        },
        {
          "output_type": "stream",
          "name": "stderr",
          "text": [
            "/usr/local/lib/python3.10/dist-packages/scipy/optimize/_minpack_py.py:177: RuntimeWarning: The number of calls to function has reached maxfev = 600.\n",
            "  warnings.warn(msg, RuntimeWarning)\n"
          ]
        }
      ]
    },
    {
      "cell_type": "markdown",
      "source": [
        "## Bisection Method\n",
        "### Section 19.3\n",
        "\n",
        "**Recall the Intermediate Value Theorem:** if $f(x)$ is a cotinuous function between a and b and $signf(a) \\ne signf(b)$\n",
        "\n",
        "The Bisection method relies on the Intermediate Value Theorem to find the roots of a function. The bisection method rinds roots iteratively. The method is defined below: \\\n",
        "\\\n",
        "$Let f(x)$ be a continuous function. \\\n",
        "$Let$  $a, b \\in \\Re$ such that $a < b$ \\\n",
        "Assume $f(a)>0$ and $f(b)<0$ \\\n",
        "The midpoint is $m=\\frac{b+a}{2}$ \\\n",
        "If $f(m)=0$ or is within tolerance then m is a root. If $f(m)>0$ then m is an improvement on leftbound. If $f(m)<0$ there is an improvement on rightbound."
      ],
      "metadata": {
        "id": "Z9ueec3dPPIx"
      }
    },
    {
      "cell_type": "code",
      "source": [
        "# Bisection Function\n",
        "import numpy as np\n",
        "\n",
        "def my_bisection(f, a, b, tol):\n",
        "  # approximates a root for a function f\n",
        "  # in a bounded range [a,b]\n",
        "  # |f(m)| < tol with m midpoint\n",
        "  # between a and b recursive implementation\n",
        "\n",
        "  # error check if a and b has a bound root\n",
        "  if np.sign(f(a)) == np.sign(f(b)):\n",
        "    raise Exception('There is no bound root between scalars a and b')\n",
        "\n",
        "  # get midpoint\n",
        "  m = (a+b)/2\n",
        "\n",
        "  if np.abs(f(m)) < tol:\n",
        "    # stop once we have hit the desired tolerance\n",
        "    return m\n",
        "  elif np.sign(f(a)) == np.sign(f(m)):\n",
        "    # case where m is an improvement on leftbound side\n",
        "    # recursively move forward with a = m\n",
        "    return my_bisection(f, m, b, tol)\n",
        "  elif np.sign(f(b)) == np.sign(f(m)):\n",
        "    # case where m is an improvement on rightbout side\n",
        "    # recurseively move forward with b = m\n",
        "    return my_bisection(f, a, m, tol)\n"
      ],
      "metadata": {
        "id": "taphRTudSE8A"
      },
      "execution_count": 25,
      "outputs": []
    },
    {
      "cell_type": "code",
      "source": [
        "# Testing bisection function\n",
        "f = lambda x: x**2 - 3\n",
        "\n",
        "# using bisection to find the roots\n",
        "r1 = my_bisection(f, 0,3,0.1)\n",
        "print('root =', r1)\n",
        "r01 = my_bisection(f,0,3,0.005)\n",
        "print('root =', r01)\n",
        "\n",
        "# testing how accurate the roots are by plugging into original function\n",
        "print('f(r1)=', f(r1))\n",
        "print('f(r01)=', f(r01))"
      ],
      "metadata": {
        "colab": {
          "base_uri": "https://localhost:8080/"
        },
        "id": "mTmjfDRzTpZw",
        "outputId": "82ce58f0-43e9-4080-89dd-73bc5280d02f"
      },
      "execution_count": 27,
      "outputs": [
        {
          "output_type": "stream",
          "name": "stdout",
          "text": [
            "root = 1.734375\n",
            "root = 1.7314453125\n",
            "f(r1)= 0.008056640625\n",
            "f(r01)= -0.0020971298217773438\n"
          ]
        }
      ]
    }
  ]
}