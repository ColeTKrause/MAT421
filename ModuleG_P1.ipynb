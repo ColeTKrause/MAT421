{
  "nbformat": 4,
  "nbformat_minor": 0,
  "metadata": {
    "colab": {
      "provenance": [],
      "authorship_tag": "ABX9TyMJUSrpQo7pw6E50iwu7F1L",
      "include_colab_link": true
    },
    "kernelspec": {
      "name": "python3",
      "display_name": "Python 3"
    },
    "language_info": {
      "name": "python"
    }
  },
  "cells": [
    {
      "cell_type": "markdown",
      "metadata": {
        "id": "view-in-github",
        "colab_type": "text"
      },
      "source": [
        "<a href=\"https://colab.research.google.com/github/ColeTKrause/MAT421/blob/main/ModuleG_P1.ipynb\" target=\"_parent\"><img src=\"https://colab.research.google.com/assets/colab-badge.svg\" alt=\"Open In Colab\"/></a>"
      ]
    },
    {
      "cell_type": "markdown",
      "source": [
        "# Numerical Integration\n",
        "\n",
        "### References\n",
        "***Chapter 21: Python Numerical Methods*** \\\n",
        "https://pythonnumericalmethods.berkeley.edu/notebooks/chapter21.00-Numerical-Integration.html\n"
      ],
      "metadata": {
        "id": "slsLOJ4r11Oz"
      }
    },
    {
      "cell_type": "markdown",
      "source": [
        "## Integration Problem Statement\n",
        "### Section 21.1\n",
        "\n",
        "***Integration*** is one of the most important and used mathematical tool used by scientist and engineers. Integration is essential for determing the area under a curve over a given interval. For example the method is often used in mechanical engineering for finding the area of odd shapes which aids in determing the efficiency and effectiveness of a component. Mechanical engineers complete most of their designs on Computer Aided Design programs, thus it is essential for computer scientist and mathematicians to determine an effecitve way of computing an integral. \\\n",
        "\\\n",
        "***Mathematical Terminology:*** \\\n",
        "Given a function $f(x)$, we can approximate the integral over an interval $[a,b]$. To achieve this computationally, we discretize the interval over a numerical grid $x$ containing $n+1$ points, with space between the poins of $h=\\frac{b-a}{n}$. The common notation is $x_0=a$ and $x_n=b$. It is important to note this is an approximation unless the computer could theoretically compute $n=\\infty$ points or analytically compute the higher derivative function ie. $∫_a^bf(x)dx$. A ***subinterval*** is classified as $[x_i,x_{i+1}]$.\n"
      ],
      "metadata": {
        "id": "NcnoAv3J2C3t"
      }
    },
    {
      "cell_type": "markdown",
      "source": [
        "## Riemann's Integral\n",
        "### Section 21.2\n",
        "\n",
        "The ***Riemann Intergral*** approximation is to break the area underneath the function on the interval $[a,b]$ into rectangles and sum up the area. The height of each rectangle is described by the function $f(x_i)$ and the width of each rectangle is described as $h=x_{i+1}-x_i$. Thus by creating the numerical grid of $n-1$ points the approximation becomes:\\\n",
        "\\\n",
        "$∫_a^bf(x)dx \\approx ∑_{i=0}^{n-1}hf(x_i)$\\\n",
        "\\\n",
        "$∫_b^af(x)dx≈∑_{i=1}^nhf(x_i)$\n",
        "\\\n",
        "\\\n",
        "The ***Taylor Series*** of a function can also be used to integrate over a function. The expansion of a function $f(x)$ around a given point $a=x_i$ is the following:\\\n",
        "$f(x)=f(x_i)+f'(x_i)(x-x_i)+...$\\\n",
        "which provides the following:\\\n",
        "$∫_{x_i}^{x_{i+1}}f(x)dx=∫_{x_i}^{x_{i+1}}(f(x_i)+f'(x_i)(x-x_i)+...)dx$\\\n",
        "Solving the integral algebraically yields the following approximation: \\\n",
        "$∫_{x_i}^{x_{i+1}}f(x)dx=hf(x_i)+\\frac{h^2}{2}f'(x_i)+O(h^3)$ \\\n",
        "which yields: \\\n",
        "$∫_{x_i}^{x_{i+1}}f(x)dx=hf(x_i)+O(h^2)$ \\\n",
        "\\\n",
        "Recall this in approximation for a subinterval! Integrating over the entire interval yields: \\\n",
        "$nO(h^2)=\\frac{b-a}{h}O(h^2)=O(h)$\\\n",
        "Thus the total error is $O(h)$ \\\n",
        "\\\n",
        "\\\n",
        "The ***Midpoint Rule*** assumes that the height of the rectangle in the middle of the interval $y_i=\\frac{x_{i+1}+{x_i}}{2}$ yielding the following: \\\n",
        "Riemann: $∫_a^bf(x)dx \\approx ∑_{i=0}^{n-1}hf(y_i)$ \\\n",
        "Taylor Series subinterval: $f(x)=f(y_i)+f'(y_i)(x-y_i)+\\frac{f''(y_i)(x-y_i)^2}{2!}+...$ \\\n",
        "Taylor Series: $∫_{x_i}^{x_{i+1}}f(x)dx = ∫_{x_i}^{x_{i+1}}(f(y_i)+f'(y_i)(x-y_i)+\\frac{f''(y_i)(x-y_i)^2}{2!}+...)dx$ \\\n",
        "and by recognizing $x_i$ and $x_{i+1}$ is symmetric around $y_i$ then $(x-y_i)^p=0$ which yields:\\\n",
        "$∫_{x_i}^{x_{i+1}}f(x)dx =hf(y_i)+O(h^3)$.\\\n",
        "Note that $hf(y_i)$ gives $O(h^2)$ for the same amount of computation gives another order of accuracy for free. \\\n",
        "\\\n",
        "***Example Problem***\\\n",
        "$f(x)=cos(x)+3$ \\\n",
        "$∫_{-π/2}^{π/2}cos(x) + 3dx = 11.42$\n",
        "\n"
      ],
      "metadata": {
        "id": "IgQluhOW2I0Y"
      }
    },
    {
      "cell_type": "code",
      "source": [
        "# Necessary imports\n",
        "import numpy as np\n",
        "\n",
        "# Example problem\n",
        "a = -np.pi / 2\n",
        "b = np.pi /2\n",
        "n = 11 # increasing this term increases the accuracy of the approximation\n",
        "h = (b - a) / (n - 1)\n",
        "x = np.linspace(a, b, n)\n",
        "f = np.cos(x) + 3\n",
        "\n",
        "# left riemann\n",
        "I_riemannL = h * sum(f[:n-1])\n",
        "err_riemannL = 11.424 - I_riemannL\n",
        "\n",
        "# right riemann\n",
        "I_riemannR = h * sum(f[1::])\n",
        "err_riemannR = 11.424 - I_riemannR\n",
        "\n",
        "# midpoint riemann\n",
        "I_mid = h * sum(np.cos((x[:n-1]+ x[1:])/2)+3)\n",
        "err_mid = 11.424 - I_mid\n",
        "\n",
        "print('Riemann Left')\n",
        "print(I_riemannL)\n",
        "print(err_riemannL)\n",
        "print('Riemann Right')\n",
        "print(I_riemannR)\n",
        "print(err_riemannR)\n",
        "print('Riemann Mid')\n",
        "print(I_mid)\n",
        "print(err_mid)\n"
      ],
      "metadata": {
        "colab": {
          "base_uri": "https://localhost:8080/"
        },
        "id": "fg0A0tAU2PUA",
        "outputId": "85fee83c-da5d-4f46-f82f-8201ace44070"
      },
      "execution_count": 24,
      "outputs": [
        {
          "output_type": "stream",
          "name": "stdout",
          "text": [
            "Riemann Left\n",
            "11.408301498278833\n",
            "0.01569850172116638\n",
            "Riemann Right\n",
            "11.408301498278835\n",
            "0.015698501721164604\n",
            "Riemann Mid\n",
            "11.433026368677352\n",
            "-0.009026368677352181\n"
          ]
        }
      ]
    },
    {
      "cell_type": "markdown",
      "source": [
        "## Trapezoid Rule\n",
        "### Section 21.3\n",
        "\n",
        "Rather than fitting a rectangle to each subinterval in the approximation, it often makes more sense to fit a trapezoid. Thus the ***Trapezoid Rule*** can increase the accuracy as the pointed tips can better track changes along a curve. Assume the trapezoid has corners $(x_i,0),(x_{i+1},0),(x_i,f(x_i)), and (x_{i+1},f(x_{i+1}))$. The area of the trapezoid becomes $h\\frac{f(x_i)+f(x_{i+1})}{2}$. This yields:\\\n",
        "$∫_a^bf(x)dx=∑_{i=0}^{n-1}h\\frac{f(x_i)+f(x_{i+1})}{2}$ \\\n",
        "\\\n",
        "This approach however is very computationally expensive. Which beggs the question, \"Is the increase in accuracy using trapezoids better than increasing n points in standard rectangular approximation?\". This requires analyzing the formula to determine if the cost of computation can be reduced. This yields: \\\n",
        "$∫_a^bf(x)dx=\\frac{h}{2}(f(x_0)+2(∑_{i=1}^{n-1}f(x_i))+f(x_n))$ \\\n",
        "\\\n",
        "***Taylor series expansion*** provides further insight into determining the accuracy advantages provided by the trapezoid rule. Using the mid point rule with $y_i=\\frac{x_{i+1}+{x_i}}{2}$ the expansion is the following:\\\n",
        "$∫_{x_i}^{x_{i+1}}f(x)dx = ∫_{x_i}^{x_{i+1}}(f(y_i)+f'(y_i)(x-y_i)+\\frac{f''(y_i)(x-y_i)^2}{2!}+...)dx$ \\\n",
        "By taking the average of the two taylor series derived expressions around points $x_i$ and $x_{i+1}$ giving $x_i-y_i=-\\frac{h}{2}$ and $x_{i+1}-y_i=\\frac{h}{2}$ yields: \\\n",
        "$\\frac{f(x_{i+1})+f(x_i)}{2}=f(y_i)+O(h^2)$\\\n",
        "Solving for $f(y_i)$ gives the following: \\\n",
        "$f(y_i)=\\frac{f(x_{i+1})+f(x_i)}{2}+O(h^2)$ \\\n",
        "Following the logic as defined above with Riemann integrals yield the following: \\\n",
        "$∫_{x_i}^{x_{i+1}}f(x)dx=hf(y_i)+O(h^3)$ \\\n",
        "Via substitution with $f(y_i) $we can derive the following: \\\n",
        "$∫_{x_i}^{x_{i+1}}f(x)dx=h(\\frac{f(x_{i+1}+f(x_i)}{2})+O(h^3)$\\\n",
        "The above is for a subinterval and integrating over the entire interval results in $O(h^2)$ accuracy.\n",
        "\n",
        "***Example Problem***\\\n",
        "$f(x)=2cos(x)$ \\\n",
        "$∫_{-π/2}^{π/2}2cos(x)dx = 4$\n",
        "\n"
      ],
      "metadata": {
        "id": "6NpCrvAV2P25"
      }
    },
    {
      "cell_type": "code",
      "source": [
        "# Necessary Imports\n",
        "import numpy as np\n",
        "\n",
        "# Trapezoid approximation\n",
        "a = -np.pi/2\n",
        "b = np.pi/2\n",
        "n = 25 # increasing this term increases the accuracy of the approximation\n",
        "h = (b - a) / (n - 1)\n",
        "x = np.linspace(a, b, n)\n",
        "f = 2*np.cos(x)\n",
        "\n",
        "I_trap = (h/2)*(f[0] + \\\n",
        "          2 * sum(f[1:n-1]) + f[n-1])\n",
        "err_trap = 4 - I_trap\n",
        "\n",
        "print(I_trap)\n",
        "print(err_trap)"
      ],
      "metadata": {
        "colab": {
          "base_uri": "https://localhost:8080/"
        },
        "id": "JOn32vye2Tz6",
        "outputId": "af37d973-6823-4c78-e8f7-63ac38ddd551"
      },
      "execution_count": 34,
      "outputs": [
        {
          "output_type": "stream",
          "name": "stdout",
          "text": [
            "3.9942867916078977\n",
            "0.00571320839210232\n"
          ]
        }
      ]
    }
  ]
}