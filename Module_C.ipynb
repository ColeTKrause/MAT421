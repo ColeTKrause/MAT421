{
  "nbformat": 4,
  "nbformat_minor": 0,
  "metadata": {
    "colab": {
      "provenance": [],
      "authorship_tag": "ABX9TyORRfCdItk3Qi6q/vWzhxhf",
      "include_colab_link": true
    },
    "kernelspec": {
      "name": "python3",
      "display_name": "Python 3"
    },
    "language_info": {
      "name": "python"
    }
  },
  "cells": [
    {
      "cell_type": "markdown",
      "metadata": {
        "id": "view-in-github",
        "colab_type": "text"
      },
      "source": [
        "<a href=\"https://colab.research.google.com/github/ColeTKrause/MAT421/blob/main/Module_C.ipynb\" target=\"_parent\"><img src=\"https://colab.research.google.com/assets/colab-badge.svg\" alt=\"Open In Colab\"/></a>"
      ]
    },
    {
      "cell_type": "markdown",
      "source": [
        "# Python and Linear Algebra\n",
        "\n",
        "### References\n",
        "**Chapters 14, 15, and 16: Python Numerical Methods**\\\n",
        "https://pythonnumericalmethods.berkeley.edu/notebooks/chapter14.01-Basics-of-Linear-Algebra.html \\\n",
        "\n",
        "### Numpy\n",
        "The Numpy library contains a powerful sub-library for linear algebra functionalities in scientific, engineering, and computing applications. Linear algebra is often times one of the most efficient ways to compute large systems of equations commonly found in machine learning, statistical, and optimization problems. Vector and Matrix format is easily implemented in base python data types allowing for a robust linear algebra library. We will explore some of the most commonly used library functions, constants, and algorithms to support computation!"
      ],
      "metadata": {
        "id": "7nf2HfivQGVs"
      }
    },
    {
      "cell_type": "markdown",
      "source": [
        "## Linear Algebra, Identities, Transformations, and Equations\n",
        "### Linear Algebra Basics\n",
        "\n",
        "**Sets:** A collection of objects \\\n",
        "**Union:** Given two Sets A and B, the union set contains the items in both A and B Denoted, $A ∪ B$ \\\n",
        "**Intersection:** Given two Sets A and B, the intersection set contains the items only in both A and B Denoted, $A ∩ B$ \\\n",
        "**Sets:** \\\n",
        "Naturals, $ℕ$, $ℕ = {1, 2, 3, ...}$ \\\n",
        "Wholes, $𝕎$, $𝕎 = ℕ ∪ {0}$ \\\n",
        "Integers, $ℤ$, $ℤ = 𝕎 ∪ {-1, -2, -3,...}$ \\\n",
        "Rationals, $ℚ$, $ℚ = \\{{\\frac{p}{q}: p ∈ ℤ, q ∈ ℤ}\\}$ \\\n",
        "Irrationals, $𝕀$, $𝕀$ is the set of real numbers not expressible as a fraction of integers \\\n",
        "Reals, $ℝ$, $ℝ = ℚ \\cup 𝕀$ \\\n",
        "Complex Numbers, $ℂ$, $ℂ = \\{ a = bi: a,b ∈ ℝ, i = sqrt(-1) \\}$ \\\n",
        "\\\n",
        "**Vectors:** An $ℝ^n$ tuple or a point. Vectors can be horizontal row vectors or vertical column vectors. Vectors only have one dimmension. $ℝ^n = \\{ (x_1, x_2, x_3,..., x_n):x_1, x_2, x_3,...,x_n \\in ℝ\\}$ \\\n",
        "\\\n",
        "**Matrices:** An rectangle of numbers consisting of m rowns and n columns. Matrices are essentially multiple vectors grouped together, and certain matrices of special properties. $||M||_p= \\sqrt[p]{∑_i^m ∑_j^n |a_{ij}|^p}$ \\\n",
        "\n",
        "### Linear Spaces\n",
        "**Linear Combination:** A new vector created by taking a subset and multiplying each vector by a constant and adding the result. \\\n",
        "**Linear Subspace:** A subset that is closed under vector adition and scalar mutliplication rules. Subspace $V$ is subset such that $U ⊆ V$ under conditions $u_1,u_2\\in U$ and $α∈ℝ$ so that $u_1 + u_2 ∈ U$ and $\\alpha u_1 \\in U$. \\\n",
        "**Span:** The set of all linear combinations of $w_j$'s. $span(x_1,...,w_m)=\\{ ∑_{j=1}^m \\alpha w_j : \\alpha _1, ..., \\alpha _m \\in ℝ\\}$. Per Lemma 1.2.3: Every Span is a Linear Space. \\\n",
        "**Column Space:** The column space of matrix A is the the span of the columns of A. $A\\in ℝ^{mxn}$ and $a_1, ..., a_m \\in ℝ^n$ then column space is just $span(a_1,...,a_m)\\in ℝ^n$ \\\n",
        "**Linear Independence:** A list of vectors $u_1,...,u_m$ is linearly indepenedent if none of them can be written as a linear combination of the others. $∀_i, u_i ∉ span(\\{ u_j: j \\neq i\\})$. \\\n",
        "\n",
        "\n",
        "### Numpy Linear Algebra library\n",
        "The linalg library contains the wrapping and functions for Vectors and Matrices. Once the library classifies this data type it has availability to many linear algebra properties such as determinants, inversions, decompositions, and much more. The code examples below provide demonstrations to import the libraries and access the vector and matrix properties."
      ],
      "metadata": {
        "id": "ZgDqFT6zTEZY"
      }
    },
    {
      "cell_type": "code",
      "execution_count": 3,
      "metadata": {
        "colab": {
          "base_uri": "https://localhost:8080/"
        },
        "id": "uUXSNvYqNwMA",
        "outputId": "3ca904e1-e40c-46cf-844f-311ffb21fb9b"
      },
      "outputs": [
        {
          "output_type": "stream",
          "name": "stdout",
          "text": [
            "Row by Column Original\n",
            "(1, 5)\n",
            "(5, 1)\n",
            "(2, 3)\n",
            "\n",
            "Row by Column Transposed\n",
            "(5, 1)\n",
            "(1, 5)\n",
            "(3, 2)\n"
          ]
        }
      ],
      "source": [
        "# necessary packages\n",
        "import numpy as np\n",
        "\n",
        "# row vector, column vector, matrix\n",
        "row_vec = np.array([[1, 2, 3, 4 ,5]])\n",
        "col_vec = np.array([[1],\n",
        "                    [2],\n",
        "                    [3],\n",
        "                    [4],\n",
        "                    [5]])\n",
        "matrix = np.array([[1, 21, 3],\n",
        "                   [4, 5, 6]])\n",
        "\n",
        "# check dimensions: row x column\n",
        "print(\"Row by Column Original\")\n",
        "print(row_vec.shape)\n",
        "print(col_vec.shape)\n",
        "print(matrix.shape)\n",
        "\n",
        "# Transpose vectors and matrices\n",
        "row_vec_T = row_vec.T\n",
        "col_vec_T = col_vec.T\n",
        "matrix_T = matrix.T\n",
        "\n",
        "# check new dimensions of transposed matrices\n",
        "print(\"\\nRow by Column Transposed\")\n",
        "print(row_vec_T.shape)\n",
        "print(col_vec_T.shape)\n",
        "print(matrix_T.shape)"
      ]
    },
    {
      "cell_type": "code",
      "source": [
        "# numpy linear algebra library\n",
        "from numpy import linalg\n",
        "\n",
        "# Determinants and Inversions\n",
        "\n",
        "# Square matrix\n",
        "sqr_matrix = np.array([[1, 2],\n",
        "                       [3,4]])\n",
        "\n",
        "matrix_det = linalg.det(sqr_matrix)\n",
        "matrix_inv = linalg.inv(sqr_matrix)\n",
        "\n",
        "# Identity matrix\n",
        "matrix_id = np.eye(2)\n",
        "\n",
        "# Pring results\n",
        "print(\"Determinants\")\n",
        "print(matrix_det)\n",
        "print(\"\\nInversions\")\n",
        "print(matrix_inv)\n",
        "print(\"\\nIdentity\")\n",
        "print(matrix_id)\n",
        "print(np.dot(sqr_matrix, matrix_id))"
      ],
      "metadata": {
        "colab": {
          "base_uri": "https://localhost:8080/"
        },
        "id": "7lSIsQk6VMS6",
        "outputId": "4233e897-e4b9-4f4f-9eab-2fde69823207"
      },
      "execution_count": 12,
      "outputs": [
        {
          "output_type": "stream",
          "name": "stdout",
          "text": [
            "Determinants\n",
            "-2.0000000000000004\n",
            "\n",
            "Inversions\n",
            "[[-2.   1. ]\n",
            " [ 1.5 -0.5]]\n",
            "\n",
            "Identity\n",
            "[[1. 0.]\n",
            " [0. 1.]]\n",
            "[[1. 2.]\n",
            " [3. 4.]]\n"
          ]
        }
      ]
    },
    {
      "cell_type": "markdown",
      "source": [
        "### Orthogonality\n",
        "**Othonormal Bases:** A list of vectors $\\{u_1,...,u_m\\}$ is orthonormal if the u's are pairwise orthogonal and each has a norm 1. $<u_i,u_j>=0$ and $||u_i||=1$ \\\n",
        "**Best Approximation Theorem:** Given a linear subspace $U\\in V$ and a vector $v$ the algorithm attempts to find the $v^*$ that is closest to $v$ in the norm. Solve $min||v^* - v||$. Resulting in $||v-ℙ_U v|| <||v-u||$ \\\n",
        "**Orthogonal Projection:** Again let linear Space $U\\in V$ with orthonormal basis. The orthogonal projection is just $ℙ v=∑_{j=1}^m <v,q_j>q_j$ \\\n",
        "**Pythagorean Theorem:** Let $u,v \\in V$ be orthogonal. Then you can find the pythogorean thoerem by pluggin in $||u+v||^2 = ||u||^2 + ||v||^2$ \\\n",
        "**Cauchy-Schwarz:** For any $v,v \\in V$ then $|<u,v>| \\leq ||u|| ||v||$ \\\n",
        "**Gram-Schmidt Process:** For $a_1,...,a_m \\in ℝ$ that are linearly independent, then $∃$ and orthonormal basis $q_1,...,q_{i-1}$ of $span(a_1,...,a_m)$\n",
        "\n",
        " ### Library\n",
        "The Numpy 'linalg' library provides the necessary functionality to compute orthogonal bases with vectors and matrices."
      ],
      "metadata": {
        "id": "HZFk1S4ab8kI"
      }
    },
    {
      "cell_type": "code",
      "source": [
        "# From the above definition, two vectors u1 and u2 should be orthogonal if the transposed\n",
        "# first vector dot product with the second vector is equal to zero\n",
        "\n",
        "# two non orthogonal vectors\n",
        "vec1 = np.array([[1, 2, 3]])\n",
        "vec2 = np.array([[4, 5, 6]])\n",
        "vec1_T = vec1.T\n",
        "print(\"Non orthogonal dot product\")\n",
        "print(np.dot(vec2, vec1_T))\n",
        "\n",
        "# two orthogonal vectors\n",
        "vec3 = np.array([[4, -2, 1]])\n",
        "vec4 = np.array([[2, 5, 2]])\n",
        "vec3_T = vec3.T\n",
        "print(\"\\nOrthogonal dot product\")\n",
        "print(np.dot(vec4, vec3_T))\n",
        "\n",
        "# normalizing vectors\n",
        "vec1_norm_scaler = linalg.norm(vec1)\n",
        "vec1_norm = vec1/vec1_norm_scaler\n",
        "print(\"\\nNormalized vectors and bases\")\n",
        "print(vec1)\n",
        "print(vec1_norm)\n",
        "print(linalg.norm(vec1_norm))"
      ],
      "metadata": {
        "colab": {
          "base_uri": "https://localhost:8080/"
        },
        "id": "yLHhH2TncRH9",
        "outputId": "3387ad8d-d751-4bb7-c8d3-26fd28d15dca"
      },
      "execution_count": 24,
      "outputs": [
        {
          "output_type": "stream",
          "name": "stdout",
          "text": [
            "Non orthogonal dot product\n",
            "[[32]]\n",
            "\n",
            "Orthogonal dot product\n",
            "[[0]]\n",
            "\n",
            "Normalized vectors and bases\n",
            "[[1 2 3]]\n",
            "[[0.26726124 0.53452248 0.80178373]]\n",
            "1.0\n"
          ]
        }
      ]
    },
    {
      "cell_type": "code",
      "source": [
        "# Pythagorean example\n",
        "u1 = np.array([[2, 4, 6, 8]])\n",
        "u2 = np.array([[1, 3, 5, 7]])\n",
        "\n",
        "# norm for ||u1 + u2||\n",
        "norm_together = linalg.norm(u1+u2)\n",
        "\n",
        "# norm separate\n",
        "norm_1 = linalg.norm(u1)\n",
        "norm_2 = linalg.norm(u2)\n",
        "\n",
        "# print results\n",
        "print('Norm together')\n",
        "print(norm_together)\n",
        "print('\\nNorm separate')\n",
        "print(norm_1+ norm_2)"
      ],
      "metadata": {
        "colab": {
          "base_uri": "https://localhost:8080/"
        },
        "id": "USkia-elLvxq",
        "outputId": "f03b2620-9ae5-4bcc-9fde-4fb1d7b47153"
      },
      "execution_count": 27,
      "outputs": [
        {
          "output_type": "stream",
          "name": "stdout",
          "text": [
            "Norm together\n",
            "20.09975124224178\n",
            "\n",
            "Norm separate\n",
            "20.119602540015002\n"
          ]
        }
      ]
    },
    {
      "cell_type": "markdown",
      "source": [
        "### Eigen Values\n",
        "**Eigenvalues and Eigenvectors:** For a given matrix A, then $\\lambda$ is an eigenvalue for a nonzero eigenvector $x=(x_1,x_2)^T$ as shown in $Ax=\\lambda x$. In general matrix $A\\in ℝ^{dxd}$ has atmost d distinct eigenvalues. \\\n",
        "**Spectral Theorem for Symmetric Matrices:** given some $nxn$ matrix $A$ then it will have the following properties:\n",
        "\n",
        "\n",
        "*   A has n real eigenvalues\n",
        "*   $\\lambda$ is an eigenvalue of A with multiplicity k, then eigenspace for $\\lambda$ is k-dimensional\n",
        "*   The eigenspaces are mutually orthogonal as eigenvectors corresponding to different eigenvalue are orthogonal\n",
        "*   A is orthogonally diagonizable\n",
        "\n",
        "\n",
        "\n",
        "\n",
        "\n",
        "### Library\n",
        "Numpy and Scipy both have a Linear Algebra library to compute Eigenvalues, SVD, QR, and Gaussian decompositions.\\\n",
        "**Numpy:** https://numpy.org/doc/stable/reference/generated/numpy.linalg.norm.html \\\n",
        "**Scipy:** https://docs.scipy.org/doc/scipy/reference/linalg.html \\"
      ],
      "metadata": {
        "id": "O2gW8aS_cRzC"
      }
    },
    {
      "cell_type": "code",
      "source": [
        "# 2x2 example for eigenvalues\n",
        "a = np.array([[1, 2],\n",
        "              [3, 4]])\n",
        "w,v = linalg.eig(a)\n",
        "print('Eigen-values: ', w)\n",
        "print('Eigen-vectors: ', v)\n",
        "\n",
        "\n",
        "# 3x3 example\n",
        "A = np.array([[1, 2, 3],\n",
        "              [7, 8, 9],\n",
        "              [4, 5, 6]])\n",
        "W,V = linalg.eig(A)\n",
        "print('\\nEigenvalues: ', W)\n",
        "print('Eigenvectors: ', V)"
      ],
      "metadata": {
        "colab": {
          "base_uri": "https://localhost:8080/"
        },
        "id": "uX_BgMwFNJHR",
        "outputId": "421c3bb8-a69d-432e-c403-85830b9d48b7"
      },
      "execution_count": 31,
      "outputs": [
        {
          "output_type": "stream",
          "name": "stdout",
          "text": [
            "Eigen-values:  [-0.37228132  5.37228132]\n",
            "Eigen-vectors:  [[-0.82456484 -0.41597356]\n",
            " [ 0.56576746 -0.90937671]]\n",
            "-0.08823529411764719\n",
            "\n",
            "Eigenvalues:  [ 1.55777472e+01 -5.77747211e-01  5.89124644e-16]\n",
            "Eigenvectors:  [[ 0.22048676  0.75018389  0.40824829]\n",
            " [ 0.82384859 -0.65967897 -0.81649658]\n",
            " [ 0.52216768  0.04525246  0.40824829]]\n",
            "-0.6465661641541041\n"
          ]
        }
      ]
    },
    {
      "cell_type": "markdown",
      "source": [
        "### Least Squares Regression in Python\n",
        "The least squares regression approach focuses on minimizing the squared regression error from the points to the regression line. This method involves calculating error for many different points to the equation, using linear algebra is a fantastic approach to speed up and ease computation. \\\n",
        "**Least squares regression formula:** $\\beta = (A^TA)^{-1}A^TY$"
      ],
      "metadata": {
        "id": "R4Y1VTnaOmsi"
      }
    },
    {
      "cell_type": "code",
      "source": [
        "# necessary libraries\n",
        "import numpy as np\n",
        "from scipy import optimize\n",
        "import matplotlib.pyplot as plt\n",
        "\n",
        "# generate x and y values\n",
        "x = np.linspace(0, 1, 101) # 100 steps 0 to 1\n",
        "y = 1 + x + x * np.random.random(len(x)) # generate random y values\n",
        "\n",
        "A = np.vstack([x, np.ones(len(x))]).T\n",
        "y = y[:, np.newaxis]\n",
        "\n",
        "# code for above regression equation\n",
        "beta = np.dot((np.dot(np.linalg.inv(np.dot(A.T, A)), A.T)), y)\n",
        "\n",
        "# plot results\n",
        "plt.figure(figsize=(10,8))\n",
        "plt.plot(x,y, 'b.')\n",
        "plt.plot(x, beta[0]*x +beta[1], 'r')\n",
        "plt.xlabel('x')\n",
        "plt.ylabel('y')\n",
        "plt.show()"
      ],
      "metadata": {
        "colab": {
          "base_uri": "https://localhost:8080/",
          "height": 696
        },
        "id": "JHIG-96hPNqS",
        "outputId": "cd1d56fb-5da8-4689-b3a4-90cfa8457aad"
      },
      "execution_count": 33,
      "outputs": [
        {
          "output_type": "display_data",
          "data": {
            "text/plain": [
              "<Figure size 1000x800 with 1 Axes>"
            ],
            "image/png": "[encoded data removed]"
          },
          "metadata": {}
        }
      ]
    }
  ]
}