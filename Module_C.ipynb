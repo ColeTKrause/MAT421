{
  "nbformat": 4,
  "nbformat_minor": 0,
  "metadata": {
    "colab": {
      "provenance": [],
      "authorship_tag": "ABX9TyNrDqlTRyx/sQzzDhU4i+1a",
      "include_colab_link": true
    },
    "kernelspec": {
      "name": "python3",
      "display_name": "Python 3"
    },
    "language_info": {
      "name": "python"
    }
  },
  "cells": [
    {
      "cell_type": "markdown",
      "metadata": {
        "id": "view-in-github",
        "colab_type": "text"
      },
      "source": [
        "<a href=\"https://colab.research.google.com/github/ColeTKrause/MAT421/blob/main/Module_C.ipynb\" target=\"_parent\"><img src=\"https://colab.research.google.com/assets/colab-badge.svg\" alt=\"Open In Colab\"/></a>"
      ]
    },
    {
      "cell_type": "markdown",
      "source": [
        "# Python and Linear Algebra\n",
        "\n",
        "### References\n",
        "**Chapters 14, 15, and 16: Python Numerical Methods**\\\n",
        "https://pythonnumericalmethods.berkeley.edu/notebooks/chapter14.01-Basics-of-Linear-Algebra.html \\\n",
        "\n",
        "### Numpy\n",
        "The Numpy library contains a powerful sub-library for linear algebra functionalities in scientific, engineering, and computing applications. Linear algebra is often times one of the most efficient ways to compute large systems of equations commonly found in machine learning, statistical, and optimization problems. Vector and Matrix format is easily implemented in base python data types allowing for a robust linear algebra library. We will explore some of the most commonly used library functions, constants, and algorithms to support computation!"
      ],
      "metadata": {
        "id": "7nf2HfivQGVs"
      }
    },
    {
      "cell_type": "markdown",
      "source": [
        "## Linear Algebra, Identities, Transformations, and Equations\n",
        "### Linear Algebra Basics\n",
        "\n",
        "**Sets:** A collection of objects \\\n",
        "**Union:** Given two Sets A and B, the union set contains the items in both A and B Denoted, $A ∪ B$ \\\n",
        "**Intersection:** Given two Sets A and B, the intersection set contains the items only in both A and B Denoted, $A ∩ B$ \\\n",
        "**Sets:** \\\n",
        "Naturals, $ℕ$, $ℕ = {1, 2, 3, ...}$ \\\n",
        "Wholes, $𝕎$, $𝕎 = ℕ ∪ {0}$ \\\n",
        "Integers, $ℤ$, $ℤ = 𝕎 ∪ {-1, -2, -3,...}$ \\\n",
        "Rationals, $ℚ$, $ℚ = \\{{\\frac{p}{q}: p ∈ ℤ, q ∈ ℤ}\\}$ \\\n",
        "Irrationals, $𝕀$, $𝕀$ is the set of real numbers not expressible as a fraction of integers \\\n",
        "Reals, $ℝ$, $ℝ = ℚ \\cup 𝕀$ \\\n",
        "Complex Numbers, $ℂ$, $ℂ = \\{ a = bi: a,b ∈ ℝ, i = sqrt(-1) \\}$ \\\n",
        "\\\n",
        "**Vectors:** An $ℝ^n$ tuple or a point. Vectors can be horizontal row vectors or vertical column vectors. Vectors only have one dimmension. $ℝ^n = \\{ (x_1, x_2, x_3,..., x_n):x_1, x_2, x_3,...,x_n \\in ℝ\\}$ \\\n",
        "\\\n",
        "**Matrices:** An rectangle of numbers consisting of m rowns and n columns. Matrices are essentially multiple vectors grouped together, and certain matrices of special properties. $||M||_p= \\sqrt[p]{∑_i^m ∑_j^n |a_{ij}|^p}$ \\\n",
        "\\\n",
        "**Linear Space Axioms:** // make to fill this out and add in some axioms\n",
        "\n",
        "### Numpy Linear Algebra libarary\n",
        "The linalg library contains the wrapping and functions for Vectors and Matrices. Once the library classifies this data type it has availability to many linear algebra properties such as determinants, inversions, decompositions, and much more. The code examples below provide demonstrations to import the libraries and access the vector and matrix properties."
      ],
      "metadata": {
        "id": "ZgDqFT6zTEZY"
      }
    },
    {
      "cell_type": "code",
      "execution_count": 3,
      "metadata": {
        "colab": {
          "base_uri": "https://localhost:8080/"
        },
        "id": "uUXSNvYqNwMA",
        "outputId": "3ca904e1-e40c-46cf-844f-311ffb21fb9b"
      },
      "outputs": [
        {
          "output_type": "stream",
          "name": "stdout",
          "text": [
            "Row by Column Original\n",
            "(1, 5)\n",
            "(5, 1)\n",
            "(2, 3)\n",
            "\n",
            "Row by Column Transposed\n",
            "(5, 1)\n",
            "(1, 5)\n",
            "(3, 2)\n"
          ]
        }
      ],
      "source": [
        "# necessary packages\n",
        "import numpy as np\n",
        "\n",
        "# row vector, column vector, matrix\n",
        "row_vec = np.array([[1, 2, 3, 4 ,5]])\n",
        "col_vec = np.array([[1],\n",
        "                    [2],\n",
        "                    [3],\n",
        "                    [4],\n",
        "                    [5]])\n",
        "matrix = np.array([[1, 21, 3],\n",
        "                   [4, 5, 6]])\n",
        "\n",
        "# check dimensions: row x column\n",
        "print(\"Row by Column Original\")\n",
        "print(row_vec.shape)\n",
        "print(col_vec.shape)\n",
        "print(matrix.shape)\n",
        "\n",
        "# Transpose vectors and matrices\n",
        "row_vec_T = row_vec.T\n",
        "col_vec_T = col_vec.T\n",
        "matrix_T = matrix.T\n",
        "\n",
        "# check new dimensions of transposed matrices\n",
        "print(\"\\nRow by Column Transposed\")\n",
        "print(row_vec_T.shape)\n",
        "print(col_vec_T.shape)\n",
        "print(matrix_T.shape)"
      ]
    },
    {
      "cell_type": "code",
      "source": [
        "# numpy linear algebra library\n",
        "from numpy import linalg\n",
        "\n",
        "# Determinants and Inversions\n",
        "\n",
        "# Square matrix\n",
        "sqr_matrix = np.array([[1, 2],\n",
        "                       [3,4]])\n",
        "\n",
        "matrix_det = linalg.det(sqr_matrix)\n",
        "matrix_inv = linalg.inv(sqr_matrix)\n",
        "\n",
        "# Identity matrix\n",
        "matrix_id = np.eye(2)\n",
        "\n",
        "# Pring results\n",
        "print(\"Determinants\")\n",
        "print(matrix_det)\n",
        "print(\"\\nInversions\")\n",
        "print(matrix_inv)\n",
        "print(\"\\nIdentity\")\n",
        "print(matrix_id)\n",
        "print(np.dot(sqr_matrix, matrix_id))"
      ],
      "metadata": {
        "colab": {
          "base_uri": "https://localhost:8080/"
        },
        "id": "7lSIsQk6VMS6",
        "outputId": "4233e897-e4b9-4f4f-9eab-2fde69823207"
      },
      "execution_count": 12,
      "outputs": [
        {
          "output_type": "stream",
          "name": "stdout",
          "text": [
            "Determinants\n",
            "-2.0000000000000004\n",
            "\n",
            "Inversions\n",
            "[[-2.   1. ]\n",
            " [ 1.5 -0.5]]\n",
            "\n",
            "Identity\n",
            "[[1. 0.]\n",
            " [0. 1.]]\n",
            "[[1. 2.]\n",
            " [3. 4.]]\n"
          ]
        }
      ]
    },
    {
      "cell_type": "markdown",
      "source": [
        "### Orthogonality\n",
        " // give a text description here of orthogonality and what it means\n",
        "\n",
        " ### Library\n",
        " // library explenation here"
      ],
      "metadata": {
        "id": "HZFk1S4ab8kI"
      }
    },
    {
      "cell_type": "code",
      "source": [],
      "metadata": {
        "id": "yLHhH2TncRH9"
      },
      "execution_count": null,
      "outputs": []
    },
    {
      "cell_type": "markdown",
      "source": [
        "### Eigen Values\n",
        "// Explain that portion here\n",
        "\n",
        "### Library\n",
        "// explain how the python library helps here"
      ],
      "metadata": {
        "id": "O2gW8aS_cRzC"
      }
    }
  ]
}